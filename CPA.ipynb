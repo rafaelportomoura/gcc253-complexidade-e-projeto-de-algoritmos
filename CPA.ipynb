{
 "cells": [
  {
   "cell_type": "markdown",
   "metadata": {},
   "source": [
    "# GCC253 - Complexidade de Algoritmos "
   ]
  },
  {
   "cell_type": "markdown",
   "metadata": {},
   "source": [
    "## Ordenação por inserção\n",
    "\n",
    "- **Entrada**: Uma sequência de $ n $ números $ \\langle a_1, a_2, \\dotsc, a_n \\rangle $\n",
    "- **Saída**: Uma permutação (reordenação) $ \\langle a_1', a_2', \\dotsc, a_n' \\rangle \\mid a_1 \\leq a_2', \\dotsc, \\leq a_n' $\n",
    "- Os números que queremos ordenar também são conhecidos como **chaves**\n",
    "- A entrada é dada na forma de um arranjo com **n elementos**\n",
    "\n"
   ]
  },
  {
   "cell_type": "markdown",
   "metadata": {},
   "source": [
    "![figura_001](./assets/001_ordenacao_por_insercao.png)  \n",
    "*figura_001*"
   ]
  },
  {
   "cell_type": "code",
   "execution_count": 5,
   "metadata": {},
   "outputs": [
    {
     "name": "stdout",
     "output_type": "stream",
     "text": [
      "[1, 2, 3, 4, 5, 6]\n"
     ]
    }
   ],
   "source": [
    "array = [5,2,4,6,1,3]\n",
    "\n",
    "for j in range(1,len(array)):\n",
    "    chave = array[j]\n",
    "    i = j -1\n",
    "    while i>=0 and array[i] > chave:\n",
    "        array[i+1] = array[i]\n",
    "        i -= 1\n",
    "    array[i+1] = chave\n",
    "\n",
    "print(array)"
   ]
  },
  {
   "cell_type": "markdown",
   "metadata": {},
   "source": [
    "![ordenação_por_inserção](./assets/002_ordenacao_por_insercao.png)  \n",
    "*figura_002*"
   ]
  },
  {
   "cell_type": "markdown",
   "metadata": {},
   "source": [
    "Seja $ A = \\langle 5,2,4,6,1,4 \\rangle $\n",
    "- Chamamos $ A[1, \\dotso, j - 1] $ formalmente como um de **invariante de laço**\n",
    "\n",
    "No início de cada iteração para o laço **for**, o subarranjo $ A[1, \\dotso, j - 1] $ consiste nos elementos que estavam originalmente em $ A[1, \\dotso, j - 1] $, porém em sequência ordenada\n",
    "\n",
    "\n",
    "Usamos invariantes de laço para nos ajudar a entender porque um algoritmo é correto. Devemos mostrar três detalhes sobre um invariante de laço:\n",
    "- **Inicialização:** Ele é verdadeiro antes da primeira iteração do laço.\n",
    "- **Manutenção:** Se ele for verdadeiro antes de uma iteração de laço, permanecerá verdadeiro antes da próxima iteração.\n",
    "- **Término:** Quando o laço termina, o invariante nos fornece uma propriedade útil que ajuda a mostrar que o algoritmo é correto.\n",
    "\n",
    "> Nota do aluno: A invariante do laço começa sendo o conjunto que esta ordenado antes do início do loop. Neste caso como o loop começa em `j==2` o elemento 1 é a invariante de laço inicial"
   ]
  },
  {
   "cell_type": "markdown",
   "metadata": {},
   "source": [
    "## Corretude de Algoritmos \n",
    "\n",
    "Corretude de Algoritmos (loops invariantes)\n",
    "- Indica que ele termina sua execução, retornando saídas corretas\n",
    "para todas as instâncias do problema."
   ]
  },
  {
   "cell_type": "markdown",
   "metadata": {},
   "source": [
    "## Exercícios\n",
    "\n",
    "1. Usando a Figura acima como modelo (figura_002), ilustre a operação de Insertion-Sort no arranjo **$ A = \\langle 31, 41, 59, 26, 41, 58 \\rangle $**\n",
    "2. Reescreva o procedimento **Insertion-Sort** para ordenar em **ordem não crescente**, em vez da **ordem não decrescente**."
   ]
  },
  {
   "cell_type": "markdown",
   "metadata": {},
   "source": [
    "### Respostas\n",
    "\n",
    "1. ![figura_003](./assets/003_ordenacao_por_insercao.png)\n",
    "   \n",
    "2. "
   ]
  },
  {
   "cell_type": "code",
   "execution_count": 1,
   "metadata": {},
   "outputs": [
    {
     "name": "stdout",
     "output_type": "stream",
     "text": [
      "[6, 5, 4, 3, 2, 1]\n"
     ]
    }
   ],
   "source": [
    "array = [5,2,4,6,1,3]\n",
    "\n",
    "for j in range(1,len(array)):\n",
    "    chave = array[j]\n",
    "    i = j -1\n",
    "    while i>=0 and array[i] < chave:\n",
    "        array[i+1] = array[i]\n",
    "        i -= 1\n",
    "    array[i+1] = chave\n",
    "\n",
    "print(array)"
   ]
  },
  {
   "cell_type": "markdown",
   "metadata": {},
   "source": [
    "# Referências\n",
    "\n",
    "- Slides de aula do Prof. Douglas H. S. Abreu - DCC/UFLA\n",
    "- **CORMEN**, T. H. et al. Algorithms: theory and practice. Rio de Janeiro-RJ-Brazil:\n",
    "Elsevier, 2012.\n",
    "- **DE OLIVEIRA**, SL Gonzaga. Algoritmos e seus fundamentos. 2020.\n"
   ]
  }
 ],
 "metadata": {
  "kernelspec": {
   "display_name": "Python 3.10.8 64-bit ('3.10.8')",
   "language": "python",
   "name": "python3"
  },
  "language_info": {
   "codemirror_mode": {
    "name": "ipython",
    "version": 3
   },
   "file_extension": ".py",
   "mimetype": "text/x-python",
   "name": "python",
   "nbconvert_exporter": "python",
   "pygments_lexer": "ipython3",
   "version": "3.10.8"
  },
  "orig_nbformat": 4,
  "vscode": {
   "interpreter": {
    "hash": "18c308bf8c65ea73c968bb2def37c29e1805ab49cd0ab6b3c350a8d7937d7682"
   }
  }
 },
 "nbformat": 4,
 "nbformat_minor": 2
}

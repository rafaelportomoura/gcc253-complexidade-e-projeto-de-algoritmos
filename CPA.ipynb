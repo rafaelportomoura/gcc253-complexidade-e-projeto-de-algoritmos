{
 "cells": [
  {
   "cell_type": "markdown",
   "metadata": {},
   "source": [
    "# GCC253 - Complexidade de Algoritmos "
   ]
  },
  {
   "cell_type": "markdown",
   "metadata": {},
   "source": [
    "## Ordenação por inserção\n",
    "\n",
    "- **Entrada**: Uma sequência de **n** números\n",
    "- **Saída**: Uma permutação (reordenação)\n",
    "- Os números que queremos ordenar também são conhecidos como **chaves**\n",
    "- A entrada é dada na forma de um arranjo com **n elementos**\n",
    "\n"
   ]
  },
  {
   "cell_type": "code",
   "execution_count": 10,
   "metadata": {},
   "outputs": [
    {
     "name": "stdout",
     "output_type": "stream",
     "text": [
      "[1, 2, 3, 4, 5, 6, 7, 8, 9, 10]\n"
     ]
    }
   ],
   "source": [
    "array = [3,2,1,4,5,9,6,7,8,10]\n",
    "\n",
    "for j in range(1,len(array)):\n",
    "    chave = array[j]\n",
    "    i = j -1\n",
    "    while i>=0 and array[i] > chave:\n",
    "        array[i+1] = array[i]\n",
    "        i -= 1\n",
    "    array[i+1] = chave\n",
    "\n",
    "print(array)\n"
   ]
  }
 ],
 "metadata": {
  "kernelspec": {
   "display_name": "Python 3.10.8 64-bit ('3.10.8')",
   "language": "python",
   "name": "python3"
  },
  "language_info": {
   "codemirror_mode": {
    "name": "ipython",
    "version": 3
   },
   "file_extension": ".py",
   "mimetype": "text/x-python",
   "name": "python",
   "nbconvert_exporter": "python",
   "pygments_lexer": "ipython3",
   "version": "3.10.8"
  },
  "orig_nbformat": 4,
  "vscode": {
   "interpreter": {
    "hash": "18c308bf8c65ea73c968bb2def37c29e1805ab49cd0ab6b3c350a8d7937d7682"
   }
  }
 },
 "nbformat": 4,
 "nbformat_minor": 2
}

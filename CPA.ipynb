{
 "cells": [
  {
   "cell_type": "markdown",
   "metadata": {},
   "source": [
    "# GCC253 - Complexidade de Algoritmos "
   ]
  },
  {
   "cell_type": "markdown",
   "metadata": {},
   "source": [
    "## Ordenação por inserção\n",
    "\n",
    "- **Entrada**: Uma sequência de $ n $ números $ \\langle a_1, a_2, \\dotsc, a_n \\rangle $\n",
    "- **Saída**: Uma permutação (reordenação) $ \\langle a_1', a_2', \\dotsc, a_n' \\rangle \\mid a_1 \\leq a_2', \\dotsc, \\leq a_n' $\n",
    "- Os números que queremos ordenar também são conhecidos como **chaves**\n",
    "- A entrada é dada na forma de um arranjo com **n elementos**\n",
    "\n"
   ]
  },
  {
   "cell_type": "markdown",
   "metadata": {},
   "source": [
    "![figura_001](./assets/001_ordenacao_por_insercao.png)  \n",
    "*figura_001*"
   ]
  },
  {
   "cell_type": "code",
   "execution_count": 5,
   "metadata": {},
   "outputs": [
    {
     "name": "stdout",
     "output_type": "stream",
     "text": [
      "[1, 2, 3, 4, 5, 6]\n"
     ]
    }
   ],
   "source": [
    "array = [5,2,4,6,1,3]\n",
    "\n",
    "for j in range(1,len(array)):\n",
    "    chave = array[j]\n",
    "    i = j -1\n",
    "    while i>=0 and array[i] > chave:\n",
    "        array[i+1] = array[i]\n",
    "        i -= 1\n",
    "    array[i+1] = chave\n",
    "\n",
    "print(array)"
   ]
  },
  {
   "cell_type": "markdown",
   "metadata": {},
   "source": [
    "![ordenação_por_inserção](./assets/002_ordenacao_por_insercao.png)  \n",
    "*figura_002*"
   ]
  },
  {
   "cell_type": "markdown",
   "metadata": {},
   "source": [
    "Seja $ A = \\langle 5,2,4,6,1,4 \\rangle $\n",
    "- Chamamos $ A[1, \\dotso, j - 1] $ formalmente como um de **invariante de laço**\n",
    "\n",
    "No início de cada iteração para o laço **for**, o subarranjo $ A[1, \\dotso, j - 1] $ consiste nos elementos que estavam originalmente em $ A[1, \\dotso, j - 1] $, porém em sequência ordenada\n",
    "\n",
    "\n",
    "Usamos invariantes de laço para nos ajudar a entender porque um algoritmo é correto. Devemos mostrar três detalhes sobre um invariante de laço:\n",
    "- **Inicialização:** Ele é verdadeiro antes da primeira iteração do laço.\n",
    "- **Manutenção:** Se ele for verdadeiro antes de uma iteração de laço, permanecerá verdadeiro antes da próxima iteração.\n",
    "- **Término:** Quando o laço termina, o invariante nos fornece uma propriedade útil que ajuda a mostrar que o algoritmo é correto.\n",
    "\n",
    "> Nota do aluno: A invariante do laço começa sendo o conjunto que esta ordenado antes do início do loop. Neste caso como o loop começa em `j==2` o elemento 1 é a invariante de laço inicial"
   ]
  },
  {
   "cell_type": "markdown",
   "metadata": {},
   "source": [
    "## Corretude de Algoritmos \n",
    "\n",
    "Corretude de Algoritmos (loops invariantes)\n",
    "- Indica que ele termina sua execução, retornando saídas corretas\n",
    "para todas as instâncias do problema."
   ]
  },
  {
   "cell_type": "markdown",
   "metadata": {},
   "source": [
    "## Exercícios 1\n",
    "\n",
    "1. Usando a Figura acima como modelo (figura_002), ilustre a operação de Insertion-Sort no arranjo **$ A = \\langle 31, 41, 59, 26, 41, 58 \\rangle $**\n",
    "2. Reescreva o procedimento **Insertion-Sort** para ordenar em **ordem não crescente**, em vez da **ordem não decrescente**."
   ]
  },
  {
   "cell_type": "markdown",
   "metadata": {},
   "source": [
    "### Respostas\n",
    "\n",
    "1. ![figura_003](./assets/003_ordenacao_por_insercao.png)\n",
    "   \n",
    "2. "
   ]
  },
  {
   "cell_type": "code",
   "execution_count": 1,
   "metadata": {},
   "outputs": [
    {
     "name": "stdout",
     "output_type": "stream",
     "text": [
      "[6, 5, 4, 3, 2, 1]\n"
     ]
    }
   ],
   "source": [
    "array = [5,2,4,6,1,3]\n",
    "\n",
    "for j in range(1,len(array)):\n",
    "    chave = array[j]\n",
    "    i = j -1\n",
    "    while i>=0 and array[i] < chave:\n",
    "        array[i+1] = array[i]\n",
    "        i -= 1\n",
    "    array[i+1] = chave\n",
    "\n",
    "print(array)"
   ]
  },
  {
   "cell_type": "markdown",
   "metadata": {},
   "source": [
    "# Ordenação por seleção\n",
    "\n",
    "## Exercícios 2\n",
    "\n",
    "1. Expresse a função $ \\frac {n^3}{1000} - 100n^2 - 100n + 3 $ em termos da notação $ \\Theta $ \n",
    "  \n",
    "2. Considere a ordenação de $ n $ números armazenados no arranjo $ A $, localizando **primeiro o menor elemento de $ A $** e permutando esse elemento com o  elemento contido em $ A[1] $. Em seguida, determine o **segundo menor elemento** de $A$ e permute-o com $A[2]$. Continue dessa maneira para os primeiros **$n - 1$** elementos de $A$  \n",
    "   \n",
    "a. Escreva o pseudocódigo para esse algoritmo, conhecido como **ordenação por seleção**.  \n",
    "\n",
    "b. Qual invariante de laço esse algoritmo mantém?  \n",
    "\n",
    "c. Por que ele só precisa ser executado para os primeiros **n - 1** elementos, e não para todos os **$n$** elementos?  \n",
    "\n",
    "d. Forneça os tempos de execução do **melhor caso** e do **pior caso** da ordenação por seleção em notação $\\Theta$.\n",
    "\n",
    "3. Como podemos modificar praticamente qualquer algoritmo para ter um bom tempo de execução no melhor caso?"
   ]
  },
  {
   "cell_type": "markdown",
   "metadata": {},
   "source": [
    "### Respostas\n",
    "\n",
    "1. $ R = \\Theta (n^3) $\n",
    "2. a)"
   ]
  },
  {
   "cell_type": "code",
   "execution_count": 7,
   "metadata": {},
   "outputs": [
    {
     "name": "stdout",
     "output_type": "stream",
     "text": [
      "invariante de laço: []\n",
      "invariante de laço: [1]\n",
      "invariante de laço: [1, 2]\n",
      "invariante de laço: [1, 2, 3]\n",
      "invariante de laço: [1, 2, 3, 4]\n",
      "invariante de laço: [1, 2, 3, 4, 5]\n",
      "[1, 2, 3, 4, 5, 6]\n"
     ]
    }
   ],
   "source": [
    "def selection_sort(array):\n",
    "    for i in range(0,len(array)):\n",
    "        menor = i\n",
    "        print(f'invariante de laço: {array[0:i]}')\n",
    "        for j in range(i+1,len(array)):\n",
    "            if array[menor] > array[j]:\n",
    "                menor = j\n",
    "        aux = array[i]\n",
    "        array[i] = array[menor]\n",
    "        array[menor] = aux\n",
    "\n",
    "array = [5,2,4,6,1,3]\n",
    "selection_sort(array)\n",
    "print(array)"
   ]
  },
  {
   "cell_type": "markdown",
   "metadata": {},
   "source": [
    "b) $ R = 1 \\dotsc n - 1$  \n",
    "c) Pois a invariante de laço vai de $ 0 $ até $ n -1 $, e nela está os $ n - 1 $ menores elementos da lista. Então na posição $ n $ o valor é maior do que todos os valores nas posições $ 1 \\dotsc n - 1 $.  \n",
    "d) Contagem de cada linha:    \n",
    "2 -> $ n + 1 $    \n",
    "3 -> $ n $  \n",
    "5 -> $ \\frac {n (n + 1)} {2} $  \n",
    "6 -> $ \\frac {n (n + 1)} {2} $  \n",
    "7 -> $ \\frac {n (n + 1)} {2} $  \n",
    "8 -> $ n $  \n",
    "9 -> $ n $   \n",
    "10 -> $ n $  \n",
    "$ R = \\Theta(n^2) $\n",
    "\n",
    "1) Poderia haver uma verificação se o array já está ordenado, e dessa forma não realizar nenhuma operação a mais.\n"
   ]
  },
  {
   "cell_type": "markdown",
   "metadata": {},
   "source": [
    "# Referências\n",
    "\n",
    "- Slides de aula do Prof. Douglas H. S. Abreu - DCC/UFLA\n",
    "- **CORMEN**, T. H. et al. Algorithms: theory and practice. Rio de Janeiro-RJ-Brazil:\n",
    "Elsevier, 2012.\n",
    "- **DE OLIVEIRA**, SL Gonzaga. Algoritmos e seus fundamentos. 2020.\n"
   ]
  }
 ],
 "metadata": {
  "kernelspec": {
   "display_name": "Python 3.10.0 64-bit ('3.10.0')",
   "language": "python",
   "name": "python3"
  },
  "language_info": {
   "codemirror_mode": {
    "name": "ipython",
    "version": 3
   },
   "file_extension": ".py",
   "mimetype": "text/x-python",
   "name": "python",
   "nbconvert_exporter": "python",
   "pygments_lexer": "ipython3",
   "version": "3.10.0"
  },
  "orig_nbformat": 4,
  "vscode": {
   "interpreter": {
    "hash": "cf9fcc9edbe16111a213ad5d1a7872f88c959e52e38c613d9dece10da60270ae"
   }
  }
 },
 "nbformat": 4,
 "nbformat_minor": 2
}

{
  "cells": [
    {
      "cell_type": "markdown",
      "metadata": {
        "id": "XAdlKnDBj5uB"
      },
      "source": [
        "# EFC1 GCC253 - Complexidade e Projeto de Algoritmos - 5 pontos.\n",
        "\n",
        "\n",
        "> **Prof.: Douglas H. S. Abreu**\n",
        "\n",
        "\n",
        "**Aluno**: Rafael Porto Vieira de Moura\n",
        "\n",
        "**Matricula**: 201820274\n",
        "\n",
        "**Turma**: 10A, 14A\n",
        "\n",
        "Link do repositório GitHub: \n",
        "\n",
        "● O trabalho deve ser feito em grupos de no máximo 4 componentes (Apenas um deve enviar a atividade no Campus Virtual)\n",
        "\n",
        "● Trabalhos entregues após a data limite não serão aceitos\n",
        "\n",
        "● Data limite de entrega: 20 de Novembro de 2022 : 23h55m\n",
        "\n",
        "● Enviar o trabalho para o campus virtual, do seguinte modo: link do repositório GitHub com acesso ao Notebook.\n",
        "\n",
        "● O trabalho deve ser desenvolvido no modelo Notebook utilizando preferencialmente a linguagem Python"
      ]
    },
    {
      "cell_type": "markdown",
      "metadata": {
        "id": "J3d6JlRUxREN"
      },
      "source": [
        "# Importações e Variáveis globais"
      ]
    },
    {
      "cell_type": "code",
      "execution_count": 40,
      "metadata": {
        "id": "Ur1DVGQAxac4"
      },
      "outputs": [
        {
          "name": "stdout",
          "output_type": "stream",
          "text": [
            "Somente para provar que os arrays serão sempre os mesmos, de acordo com o tamanho:\n",
            "[13, 36, 20, 56, 60, 16, 24, 53, 99, 6]\n",
            "[13, 36, 20, 56, 60, 16, 24, 53, 99, 6]\n",
            "Arrays utilizados: \n",
            "A5: [13, 36, 20, 56, 60]\n",
            "A10: [13, 36, 20, 56, 60, 16, 24, 53, 99, 6]\n",
            "A15: [13, 36, 20, 56, 60, 16, 24, 53, 99, 6, 34, 91, 2, 78, 10]\n"
          ]
        }
      ],
      "source": [
        "import random\n",
        "\n",
        "\n",
        "def getArray(length):\n",
        "    random.seed(2022.2)\n",
        "    return random.sample(range(100),length)\n",
        "\n",
        "print('Somente para provar que os arrays serão sempre os mesmos, de acordo com o tamanho:')\n",
        "print(getArray(10))\n",
        "print(getArray(10))\n",
        "print('Arrays utilizados: ')\n",
        "print(f'A5: {getArray(5)}')\n",
        "print(f'A10: {getArray(10)}')\n",
        "print(f'A15: {getArray(15)}')\n",
        "\n",
        "def runAlgorithm(algorithm, name):\n",
        "    print(f\"Algoritmo {name}: \")\n",
        "\n",
        "    print(f\"\\tArray com cinco elementos: \")\n",
        "    A5 = getArray(5)\n",
        "    print(f\"\\t\\tdesordenado: {A5}\")\n",
        "    print(f\"\\t\\tordenado: {algorithm(A5)}\")\n",
        "\n",
        "    print(f\"\\tArray com dez elementos: \")\n",
        "    A10 = getArray(10)\n",
        "    print(f\"\\t\\tdesordenado: {A10}\")\n",
        "    print(f\"\\t\\tordenado:    {algorithm(A10)}\")\n",
        "\n",
        "    print(f\"\\tArray com 15 elementos: \")\n",
        "    A15 = getArray(15)\n",
        "    print(f\"\\t\\tdesordenado: {A15}\")\n",
        "    print(f\"\\t\\tordenado: {algorithm(A15)}\")\n",
        "\n",
        "    print(f\"__________________________________________\\n\")\n",
        "\n",
        "      \n"
      ]
    },
    {
      "cell_type": "markdown",
      "metadata": {
        "id": "kPNpzNYwkKAO"
      },
      "source": [
        "# Funções de Ordenação\n",
        "\n",
        "> Utilize este espaço para definir as funções de ordenação.\n",
        "\n"
      ]
    },
    {
      "cell_type": "markdown",
      "metadata": {
        "id": "nEw1UEsmoKMg"
      },
      "source": [
        "##  Insertion Sort\n"
      ]
    },
    {
      "cell_type": "code",
      "execution_count": 41,
      "metadata": {
        "id": "kbOrhdB-j_px"
      },
      "outputs": [],
      "source": [
        "def insertionSort(array):\n",
        "    for i in range(0, len(array) - 1):\n",
        "        key = array[i + 1]\n",
        "        while i >= 0 and key < array[i]:\n",
        "            array[i + 1] = array[i]\n",
        "            i -= 1\n",
        "        array[i + 1] = key\n",
        "    return array"
      ]
    },
    {
      "cell_type": "markdown",
      "metadata": {
        "id": "9a-wJwU-wtmQ"
      },
      "source": [
        "##  Merge Sort\n"
      ]
    },
    {
      "cell_type": "code",
      "execution_count": 42,
      "metadata": {
        "id": "8cgIJ_4EwbPN"
      },
      "outputs": [],
      "source": [
        "def mergeSortController(array):\n",
        "    return mergeSort(array, 0, len(array) - 1)\n",
        "\n",
        "\n",
        "def mergeSort(array, begin, end):\n",
        "    if begin < end:\n",
        "        half = int((begin + end) / 2)\n",
        "        mergeSort(array, begin, half)\n",
        "        mergeSort(array, half + 1, end)\n",
        "        merge(array, begin, half, end)\n",
        "\n",
        "    return array\n",
        "\n",
        "\n",
        "def merge(array, begin, half, end):\n",
        "    i = begin\n",
        "    j = half + 1\n",
        "    aux = begin\n",
        "    list_len = end - begin + 1\n",
        "    aux_array = [0] * len(array)\n",
        "\n",
        "    while i <= half and j <= end:\n",
        "        if array[i] <= array[j]:\n",
        "            aux_array[aux] = array[i]\n",
        "            i += 1\n",
        "        else:\n",
        "            aux_array[aux] = array[j]\n",
        "            j += 1\n",
        "        aux += 1\n",
        "\n",
        "    while i <= half:\n",
        "        aux_array[aux] = array[i]\n",
        "        i += 1\n",
        "        aux += 1\n",
        "\n",
        "    while j <= end:\n",
        "        aux_array[aux] = array[j]\n",
        "        j += 1\n",
        "        aux += 1\n",
        "    \n",
        "    for aux in range(0,list_len):\n",
        "        array[end] = aux_array[end]\n",
        "        end -= 1"
      ]
    },
    {
      "cell_type": "markdown",
      "metadata": {
        "id": "8dWpeYUvw-wU"
      },
      "source": [
        "##  Selection Sort\n"
      ]
    },
    {
      "cell_type": "code",
      "execution_count": 43,
      "metadata": {
        "id": "vNgUDShawygu"
      },
      "outputs": [],
      "source": [
        "def selectionSort(array):\n",
        "    for i in range(0,len(array)):\n",
        "        menor = i\n",
        "        for j in range(i+1,len(array)):\n",
        "            if array[menor] > array[j]:\n",
        "                menor = j\n",
        "        aux = array[i]\n",
        "        array[i] = array[menor]\n",
        "        array[menor] = aux\n",
        "    return array"
      ]
    },
    {
      "cell_type": "markdown",
      "metadata": {
        "id": "zNI1kX0yyDrs"
      },
      "source": [
        "##  Bubble Sort\n"
      ]
    },
    {
      "cell_type": "code",
      "execution_count": 44,
      "metadata": {
        "id": "6X_zk1yWxMQS"
      },
      "outputs": [],
      "source": [
        "def bubbleSort(array):\n",
        "    fim = len(array) - 1\n",
        "    while fim > 0:\n",
        "        for i in range(0, fim):\n",
        "            if array[i] > array[i + 1]:\n",
        "                aux = array[i]\n",
        "                array[i] = array[i + 1]\n",
        "                array[i + 1] = aux\n",
        "        fim -= 1\n",
        "    return array"
      ]
    },
    {
      "cell_type": "markdown",
      "metadata": {
        "id": "vk4vOTkKyLB-"
      },
      "source": [
        "## Heap Sort"
      ]
    },
    {
      "cell_type": "code",
      "execution_count": 45,
      "metadata": {
        "id": "39a7xXzLyH9g"
      },
      "outputs": [],
      "source": [
        "def heapSort(array):\n",
        "    length = len(array)\n",
        "\n",
        "    for i in range(length // 2 - 1, -1, -1):\n",
        "        heapify(array, length, i)\n",
        "\n",
        "    for i in range(length - 1, 0, -1):\n",
        "        aux = array[0]\n",
        "        array[0] = array[i]\n",
        "        array[i] = aux\n",
        "        heapify(array, i, 0)\n",
        "\n",
        "    return array\n",
        "\n",
        "\n",
        "def heapify(array, length, begin):\n",
        "    largest = begin\n",
        "    left = 2 * begin + 1\n",
        "    right = 2 * begin + 2\n",
        "\n",
        "    if left < length and array[begin] < array[left]:\n",
        "        largest = left\n",
        "\n",
        "    if right < length and array[largest] < array[right]:\n",
        "        largest = right\n",
        "\n",
        "    if largest != begin:\n",
        "        aux = array[begin]\n",
        "        array[begin] = array[largest]\n",
        "        array[largest] = aux\n",
        "        heapify(array, length, largest)"
      ]
    },
    {
      "cell_type": "markdown",
      "metadata": {
        "id": "fFiGho5CyU3t"
      },
      "source": [
        "## Quick Sort com pivo sendo o ultimo elemento do arranjo\n",
        "\n",
        "> pivo = *A[A-comprimento]*"
      ]
    },
    {
      "cell_type": "code",
      "execution_count": 46,
      "metadata": {
        "id": "1Ie_N5CRyKY7"
      },
      "outputs": [],
      "source": [
        "def quickSortController(array):\n",
        "    return quickSort(array, 0, len(array) - 1)\n",
        "\n",
        "def partition(array, begin, end):\n",
        "    pivot = array[end]\n",
        "    index = begin - 1\n",
        "\n",
        "    for i in range(begin,end-1):\n",
        "      if array[i] < pivot:\n",
        "        index += 1\n",
        "        (array[index], array[i]) = (array[i], array[index])\n",
        "    (array[end], array[index +1]) = (array[index+1], array[end])\n",
        "    return index + 1\n",
        "\n",
        "def quickSort(array, begin, end):\n",
        "    if begin < end:\n",
        "        pin = partition(array,begin,end)\n",
        "        quickSort(array, begin, pin-1)\n",
        "        quickSort(array, pin+1, end)\n",
        "    return array"
      ]
    },
    {
      "cell_type": "markdown",
      "metadata": {
        "id": "VomdAnCrzEv1"
      },
      "source": [
        "# Questões"
      ]
    },
    {
      "cell_type": "markdown",
      "metadata": {
        "id": "3QKV979kzItD"
      },
      "source": [
        "\n",
        "\n",
        "1.   Escolha pelo menos 3 arranjos. Ex: ***A[5,...,1000,...,100]*** e mostre o funcionamento dos Algoritmos realizando a ordenação.\n",
        "\n",
        "\n",
        "\n"
      ]
    },
    {
      "cell_type": "code",
      "execution_count": 47,
      "metadata": {
        "colab": {
          "base_uri": "https://localhost:8080/"
        },
        "id": "nBfs279_1Vko",
        "outputId": "6a6e86cf-5b1e-4176-a1a5-93bfb4ded319"
      },
      "outputs": [
        {
          "name": "stdout",
          "output_type": "stream",
          "text": [
            "Algoritmo Insertion Sort: \n",
            "\tArray com cinco elementos: \n",
            "\t\tdesordenado: [13, 36, 20, 56, 60]\n",
            "\t\tordenado: [13, 20, 36, 56, 60]\n",
            "\tArray com dez elementos: \n",
            "\t\tdesordenado: [13, 36, 20, 56, 60, 16, 24, 53, 99, 6]\n",
            "\t\tordenado:    [6, 13, 16, 20, 24, 36, 53, 56, 60, 99]\n",
            "\tArray com 15 elementos: \n",
            "\t\tdesordenado: [13, 36, 20, 56, 60, 16, 24, 53, 99, 6, 34, 91, 2, 78, 10]\n",
            "\t\tordenado: [2, 6, 10, 13, 16, 20, 24, 34, 36, 53, 56, 60, 78, 91, 99]\n",
            "__________________________________________\n",
            "\n",
            "Algoritmo Selection Sort: \n",
            "\tArray com cinco elementos: \n",
            "\t\tdesordenado: [13, 36, 20, 56, 60]\n",
            "\t\tordenado: [13, 20, 36, 56, 60]\n",
            "\tArray com dez elementos: \n",
            "\t\tdesordenado: [13, 36, 20, 56, 60, 16, 24, 53, 99, 6]\n",
            "\t\tordenado:    [6, 13, 16, 20, 24, 36, 53, 56, 60, 99]\n",
            "\tArray com 15 elementos: \n",
            "\t\tdesordenado: [13, 36, 20, 56, 60, 16, 24, 53, 99, 6, 34, 91, 2, 78, 10]\n",
            "\t\tordenado: [2, 6, 10, 13, 16, 20, 24, 34, 36, 53, 56, 60, 78, 91, 99]\n",
            "__________________________________________\n",
            "\n",
            "Algoritmo Bubble Sort: \n",
            "\tArray com cinco elementos: \n",
            "\t\tdesordenado: [13, 36, 20, 56, 60]\n",
            "\t\tordenado: [13, 20, 36, 56, 60]\n",
            "\tArray com dez elementos: \n",
            "\t\tdesordenado: [13, 36, 20, 56, 60, 16, 24, 53, 99, 6]\n",
            "\t\tordenado:    [6, 13, 16, 20, 24, 36, 53, 56, 60, 99]\n",
            "\tArray com 15 elementos: \n",
            "\t\tdesordenado: [13, 36, 20, 56, 60, 16, 24, 53, 99, 6, 34, 91, 2, 78, 10]\n",
            "\t\tordenado: [2, 6, 10, 13, 16, 20, 24, 34, 36, 53, 56, 60, 78, 91, 99]\n",
            "__________________________________________\n",
            "\n",
            "Algoritmo Merge Sort: \n",
            "\tArray com cinco elementos: \n",
            "\t\tdesordenado: [13, 36, 20, 56, 60]\n",
            "\t\tordenado: [13, 20, 36, 56, 60]\n",
            "\tArray com dez elementos: \n",
            "\t\tdesordenado: [13, 36, 20, 56, 60, 16, 24, 53, 99, 6]\n",
            "\t\tordenado:    [6, 13, 16, 20, 24, 36, 53, 56, 60, 99]\n",
            "\tArray com 15 elementos: \n",
            "\t\tdesordenado: [13, 36, 20, 56, 60, 16, 24, 53, 99, 6, 34, 91, 2, 78, 10]\n",
            "\t\tordenado: [2, 6, 10, 13, 16, 20, 24, 34, 36, 53, 56, 60, 78, 91, 99]\n",
            "__________________________________________\n",
            "\n",
            "Algoritmo Quick Sort: \n",
            "\tArray com cinco elementos: \n",
            "\t\tdesordenado: [13, 36, 20, 56, 60]\n",
            "\t\tordenado: [13, 20, 36, 60, 56]\n",
            "\tArray com dez elementos: \n",
            "\t\tdesordenado: [13, 36, 20, 56, 60, 16, 24, 53, 99, 6]\n",
            "\t\tordenado:    [6, 13, 20, 24, 16, 36, 53, 56, 60, 99]\n",
            "\tArray com 15 elementos: \n",
            "\t\tdesordenado: [13, 36, 20, 56, 60, 16, 24, 53, 99, 6, 34, 91, 2, 78, 10]\n",
            "\t\tordenado: [2, 6, 10, 13, 16, 20, 24, 36, 53, 34, 56, 60, 91, 99, 78]\n",
            "__________________________________________\n",
            "\n",
            "Algoritmo Heap Sort: \n",
            "\tArray com cinco elementos: \n",
            "\t\tdesordenado: [13, 36, 20, 56, 60]\n",
            "\t\tordenado: [13, 20, 36, 56, 60]\n",
            "\tArray com dez elementos: \n",
            "\t\tdesordenado: [13, 36, 20, 56, 60, 16, 24, 53, 99, 6]\n",
            "\t\tordenado:    [6, 13, 16, 20, 24, 36, 53, 56, 60, 99]\n",
            "\tArray com 15 elementos: \n",
            "\t\tdesordenado: [13, 36, 20, 56, 60, 16, 24, 53, 99, 6, 34, 91, 2, 78, 10]\n",
            "\t\tordenado: [2, 6, 10, 13, 16, 20, 24, 34, 36, 53, 56, 60, 78, 91, 99]\n",
            "__________________________________________\n",
            "\n"
          ]
        }
      ],
      "source": [
        "runAlgorithm(insertionSort, \"Insertion Sort\")\n",
        "runAlgorithm(selectionSort, \"Selection Sort\")\n",
        "runAlgorithm(bubbleSort, \"Bubble Sort\")\n",
        "runAlgorithm(mergeSortController, \"Merge Sort\")\n",
        "runAlgorithm(quickSortController, \"Quick Sort\")\n",
        "runAlgorithm(heapSort, \"Heap Sort\")"
      ]
    }
  ],
  "metadata": {
    "colab": {
      "collapsed_sections": [
        "kPNpzNYwkKAO",
        "nEw1UEsmoKMg",
        "9a-wJwU-wtmQ",
        "8dWpeYUvw-wU",
        "zNI1kX0yyDrs",
        "vk4vOTkKyLB-"
      ],
      "provenance": [],
      "toc_visible": true
    },
    "kernelspec": {
      "display_name": "Python 3.10.0 64-bit ('3.10.0')",
      "language": "python",
      "name": "python3"
    },
    "language_info": {
      "codemirror_mode": {
        "name": "ipython",
        "version": 3
      },
      "file_extension": ".py",
      "mimetype": "text/x-python",
      "name": "python",
      "nbconvert_exporter": "python",
      "pygments_lexer": "ipython3",
      "version": "3.10.0"
    },
    "vscode": {
      "interpreter": {
        "hash": "cf9fcc9edbe16111a213ad5d1a7872f88c959e52e38c613d9dece10da60270ae"
      }
    }
  },
  "nbformat": 4,
  "nbformat_minor": 0
}
